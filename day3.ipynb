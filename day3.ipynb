{
 "cells": [
  {
   "cell_type": "markdown",
   "id": "83f11022",
   "metadata": {},
   "source": [
    "# Contextualized token embeddings for semantic change detection"
   ]
  },
  {
   "cell_type": "code",
   "execution_count": 1,
   "id": "ac0b1617",
   "metadata": {},
   "outputs": [],
   "source": [
    "import matplotlib.pylab as plot\n",
    "import numpy as np\n",
    "from scipy.stats import spearmanr\n",
    "from scipy.spatial.distance import cosine, cdist\n",
    "from sklearn.decomposition import PCA\n",
    "from sklearn.manifold import TSNE\n",
    "from sklearn import preprocessing\n",
    "import pandas as pd"
   ]
  },
  {
   "cell_type": "markdown",
   "id": "8801fe1f",
   "metadata": {},
   "source": [
    "# Loading the test set"
   ]
  },
  {
   "cell_type": "markdown",
   "id": "287a15b3",
   "metadata": {},
   "source": [
    "For simplicity, we are using a version of SemEval'20 English test set *without POS tags*."
   ]
  },
  {
   "cell_type": "code",
   "execution_count": 2,
   "id": "17248820",
   "metadata": {},
   "outputs": [],
   "source": [
    "graded = pd.read_csv(\"targets/english/graded_nopos.txt\", sep=\"\\t\", header=None,\n",
    "                     names=['word', 'truth'])"
   ]
  },
  {
   "cell_type": "code",
   "execution_count": 3,
   "id": "a4fd3c9a",
   "metadata": {},
   "outputs": [
    {
     "data": {
      "text/html": [
       "<div>\n",
       "<style scoped>\n",
       "    .dataframe tbody tr th:only-of-type {\n",
       "        vertical-align: middle;\n",
       "    }\n",
       "\n",
       "    .dataframe tbody tr th {\n",
       "        vertical-align: top;\n",
       "    }\n",
       "\n",
       "    .dataframe thead th {\n",
       "        text-align: right;\n",
       "    }\n",
       "</style>\n",
       "<table border=\"1\" class=\"dataframe\">\n",
       "  <thead>\n",
       "    <tr style=\"text-align: right;\">\n",
       "      <th></th>\n",
       "      <th>word</th>\n",
       "      <th>truth</th>\n",
       "    </tr>\n",
       "  </thead>\n",
       "  <tbody>\n",
       "    <tr>\n",
       "      <th>0</th>\n",
       "      <td>attack</td>\n",
       "      <td>0.143970</td>\n",
       "    </tr>\n",
       "    <tr>\n",
       "      <th>1</th>\n",
       "      <td>bag</td>\n",
       "      <td>0.100364</td>\n",
       "    </tr>\n",
       "    <tr>\n",
       "      <th>2</th>\n",
       "      <td>ball</td>\n",
       "      <td>0.409367</td>\n",
       "    </tr>\n",
       "    <tr>\n",
       "      <th>3</th>\n",
       "      <td>bit</td>\n",
       "      <td>0.306577</td>\n",
       "    </tr>\n",
       "    <tr>\n",
       "      <th>4</th>\n",
       "      <td>chairman</td>\n",
       "      <td>0.000000</td>\n",
       "    </tr>\n",
       "    <tr>\n",
       "      <th>5</th>\n",
       "      <td>circle</td>\n",
       "      <td>0.171087</td>\n",
       "    </tr>\n",
       "    <tr>\n",
       "      <th>6</th>\n",
       "      <td>contemplation</td>\n",
       "      <td>0.070839</td>\n",
       "    </tr>\n",
       "    <tr>\n",
       "      <th>7</th>\n",
       "      <td>donkey</td>\n",
       "      <td>0.160104</td>\n",
       "    </tr>\n",
       "    <tr>\n",
       "      <th>8</th>\n",
       "      <td>edge</td>\n",
       "      <td>0.260966</td>\n",
       "    </tr>\n",
       "    <tr>\n",
       "      <th>9</th>\n",
       "      <td>face</td>\n",
       "      <td>0.137791</td>\n",
       "    </tr>\n",
       "    <tr>\n",
       "      <th>10</th>\n",
       "      <td>fiction</td>\n",
       "      <td>0.020723</td>\n",
       "    </tr>\n",
       "    <tr>\n",
       "      <th>11</th>\n",
       "      <td>gas</td>\n",
       "      <td>0.159570</td>\n",
       "    </tr>\n",
       "    <tr>\n",
       "      <th>12</th>\n",
       "      <td>graft</td>\n",
       "      <td>0.553976</td>\n",
       "    </tr>\n",
       "    <tr>\n",
       "      <th>13</th>\n",
       "      <td>head</td>\n",
       "      <td>0.295256</td>\n",
       "    </tr>\n",
       "    <tr>\n",
       "      <th>14</th>\n",
       "      <td>land</td>\n",
       "      <td>0.223448</td>\n",
       "    </tr>\n",
       "    <tr>\n",
       "      <th>15</th>\n",
       "      <td>lane</td>\n",
       "      <td>0.103720</td>\n",
       "    </tr>\n",
       "    <tr>\n",
       "      <th>16</th>\n",
       "      <td>lass</td>\n",
       "      <td>0.212590</td>\n",
       "    </tr>\n",
       "    <tr>\n",
       "      <th>17</th>\n",
       "      <td>multitude</td>\n",
       "      <td>0.100364</td>\n",
       "    </tr>\n",
       "    <tr>\n",
       "      <th>18</th>\n",
       "      <td>ounce</td>\n",
       "      <td>0.284899</td>\n",
       "    </tr>\n",
       "    <tr>\n",
       "      <th>19</th>\n",
       "      <td>part</td>\n",
       "      <td>0.161271</td>\n",
       "    </tr>\n",
       "    <tr>\n",
       "      <th>20</th>\n",
       "      <td>pin</td>\n",
       "      <td>0.207212</td>\n",
       "    </tr>\n",
       "    <tr>\n",
       "      <th>21</th>\n",
       "      <td>plane</td>\n",
       "      <td>0.882348</td>\n",
       "    </tr>\n",
       "    <tr>\n",
       "      <th>22</th>\n",
       "      <td>player</td>\n",
       "      <td>0.273667</td>\n",
       "    </tr>\n",
       "    <tr>\n",
       "      <th>23</th>\n",
       "      <td>prop</td>\n",
       "      <td>0.624760</td>\n",
       "    </tr>\n",
       "    <tr>\n",
       "      <th>24</th>\n",
       "      <td>quilt</td>\n",
       "      <td>0.123145</td>\n",
       "    </tr>\n",
       "    <tr>\n",
       "      <th>25</th>\n",
       "      <td>rag</td>\n",
       "      <td>0.276515</td>\n",
       "    </tr>\n",
       "    <tr>\n",
       "      <th>26</th>\n",
       "      <td>record</td>\n",
       "      <td>0.427350</td>\n",
       "    </tr>\n",
       "    <tr>\n",
       "      <th>27</th>\n",
       "      <td>relationship</td>\n",
       "      <td>0.056218</td>\n",
       "    </tr>\n",
       "    <tr>\n",
       "      <th>28</th>\n",
       "      <td>risk</td>\n",
       "      <td>0.000000</td>\n",
       "    </tr>\n",
       "    <tr>\n",
       "      <th>29</th>\n",
       "      <td>savage</td>\n",
       "      <td>0.096869</td>\n",
       "    </tr>\n",
       "    <tr>\n",
       "      <th>30</th>\n",
       "      <td>stab</td>\n",
       "      <td>0.400590</td>\n",
       "    </tr>\n",
       "    <tr>\n",
       "      <th>31</th>\n",
       "      <td>stroke</td>\n",
       "      <td>0.176231</td>\n",
       "    </tr>\n",
       "    <tr>\n",
       "      <th>32</th>\n",
       "      <td>thump</td>\n",
       "      <td>0.142992</td>\n",
       "    </tr>\n",
       "    <tr>\n",
       "      <th>33</th>\n",
       "      <td>tip</td>\n",
       "      <td>0.678899</td>\n",
       "    </tr>\n",
       "    <tr>\n",
       "      <th>34</th>\n",
       "      <td>tree</td>\n",
       "      <td>0.070839</td>\n",
       "    </tr>\n",
       "    <tr>\n",
       "      <th>35</th>\n",
       "      <td>twist</td>\n",
       "      <td>0.398493</td>\n",
       "    </tr>\n",
       "    <tr>\n",
       "      <th>36</th>\n",
       "      <td>word</td>\n",
       "      <td>0.179307</td>\n",
       "    </tr>\n",
       "  </tbody>\n",
       "</table>\n",
       "</div>"
      ],
      "text/plain": [
       "             word     truth\n",
       "0          attack  0.143970\n",
       "1             bag  0.100364\n",
       "2            ball  0.409367\n",
       "3             bit  0.306577\n",
       "4        chairman  0.000000\n",
       "5          circle  0.171087\n",
       "6   contemplation  0.070839\n",
       "7          donkey  0.160104\n",
       "8            edge  0.260966\n",
       "9            face  0.137791\n",
       "10        fiction  0.020723\n",
       "11            gas  0.159570\n",
       "12          graft  0.553976\n",
       "13           head  0.295256\n",
       "14           land  0.223448\n",
       "15           lane  0.103720\n",
       "16           lass  0.212590\n",
       "17      multitude  0.100364\n",
       "18          ounce  0.284899\n",
       "19           part  0.161271\n",
       "20            pin  0.207212\n",
       "21          plane  0.882348\n",
       "22         player  0.273667\n",
       "23           prop  0.624760\n",
       "24          quilt  0.123145\n",
       "25            rag  0.276515\n",
       "26         record  0.427350\n",
       "27   relationship  0.056218\n",
       "28           risk  0.000000\n",
       "29         savage  0.096869\n",
       "30           stab  0.400590\n",
       "31         stroke  0.176231\n",
       "32          thump  0.142992\n",
       "33            tip  0.678899\n",
       "34           tree  0.070839\n",
       "35          twist  0.398493\n",
       "36           word  0.179307"
      ]
     },
     "execution_count": 3,
     "metadata": {},
     "output_type": "execute_result"
    }
   ],
   "source": [
    "graded"
   ]
  },
  {
   "cell_type": "code",
   "execution_count": 4,
   "id": "7d300083",
   "metadata": {},
   "outputs": [],
   "source": [
    "targets = graded.word"
   ]
  },
  {
   "cell_type": "code",
   "execution_count": 5,
   "id": "6ceafed9",
   "metadata": {},
   "outputs": [
    {
     "data": {
      "text/plain": [
       "'Target lemmas: 37.'"
      ]
     },
     "execution_count": 5,
     "metadata": {},
     "output_type": "execute_result"
    }
   ],
   "source": [
    "f\"Target lemmas: {len(targets)}.\""
   ]
  },
  {
   "cell_type": "markdown",
   "id": "2dbd5604",
   "metadata": {},
   "source": [
    "Again, corpus1 is XIX century English, corpus 2 is XX century English"
   ]
  },
  {
   "cell_type": "markdown",
   "id": "46ca79c6",
   "metadata": {},
   "source": [
    "# 1. Embedding part"
   ]
  },
  {
   "cell_type": "markdown",
   "id": "ddccd8b9",
   "metadata": {},
   "source": [
    "We assume the token embeddings are already extracted using the language model of our choice (BERT, XLM-R, etc).\n",
    "If you are curious, look at the `extract.py` script.\n",
    "Embeddings are stored as Numpy matrices (compressed). They are about 200 MBytes each, so we publish them separately."
   ]
  },
  {
   "cell_type": "code",
   "execution_count": null,
   "id": "fcea1a84",
   "metadata": {},
   "outputs": [],
   "source": [
    "!wget -c https://www.mn.uio.no/ifi/english/people/aca/andreku/token_embeddings_corpus1_xlmr.npz"
   ]
  },
  {
   "cell_type": "code",
   "execution_count": null,
   "id": "582c12bb",
   "metadata": {},
   "outputs": [],
   "source": [
    "!wget -c https://www.mn.uio.no/ifi/english/people/aca/andreku/token_embeddings_corpus2_xlmr.npz"
   ]
  },
  {
   "cell_type": "code",
   "execution_count": 6,
   "id": "a59324a6",
   "metadata": {},
   "outputs": [],
   "source": [
    "data_path1= \"token_embeddings_corpus1_xlmr.npz\""
   ]
  },
  {
   "cell_type": "code",
   "execution_count": 7,
   "id": "268221c6",
   "metadata": {},
   "outputs": [],
   "source": [
    "array1 = np.load(data_path1)"
   ]
  },
  {
   "cell_type": "code",
   "execution_count": 8,
   "id": "586ddf8f",
   "metadata": {},
   "outputs": [
    {
     "data": {
      "text/plain": [
       "'Loaded an array of 37 entries from token_embeddings_corpus1_xlmr.npz'"
      ]
     },
     "execution_count": 8,
     "metadata": {},
     "output_type": "execute_result"
    }
   ],
   "source": [
    "f\"Loaded an array of {len(array1)} entries from {data_path1}\""
   ]
  },
  {
   "cell_type": "code",
   "execution_count": 9,
   "id": "f1e95bae",
   "metadata": {},
   "outputs": [],
   "source": [
    "data_path2 = \"token_embeddings_corpus2_xlmr.npz\""
   ]
  },
  {
   "cell_type": "code",
   "execution_count": 10,
   "id": "820e660b",
   "metadata": {},
   "outputs": [],
   "source": [
    "array2 = np.load(data_path2)"
   ]
  },
  {
   "cell_type": "code",
   "execution_count": 11,
   "id": "2b3cb51f",
   "metadata": {},
   "outputs": [
    {
     "data": {
      "text/plain": [
       "'Loaded an array of 37 entries from token_embeddings_corpus2_xlmr.npz'"
      ]
     },
     "execution_count": 11,
     "metadata": {},
     "output_type": "execute_result"
    }
   ],
   "source": [
    "f\"Loaded an array of {len(array2)} entries from {data_path2}\""
   ]
  },
  {
   "cell_type": "markdown",
   "id": "009fb674",
   "metadata": {},
   "source": [
    "# Visualizing token embeddings"
   ]
  },
  {
   "cell_type": "code",
   "execution_count": 12,
   "id": "7a239924",
   "metadata": {},
   "outputs": [],
   "source": [
    "word = \"plane\""
   ]
  },
  {
   "cell_type": "code",
   "execution_count": 13,
   "id": "20e962dc",
   "metadata": {},
   "outputs": [
    {
     "data": {
      "text/plain": [
       "(1492, 768)"
      ]
     },
     "execution_count": 13,
     "metadata": {},
     "output_type": "execute_result"
    }
   ],
   "source": [
    "array = array2[word]\n",
    "array.shape"
   ]
  },
  {
   "cell_type": "code",
   "execution_count": 14,
   "id": "1e5a8f3e",
   "metadata": {},
   "outputs": [],
   "source": [
    "embedding = PCA(n_components=2)\n",
    "y = embedding.fit_transform(array)"
   ]
  },
  {
   "cell_type": "code",
   "execution_count": 15,
   "id": "84359774",
   "metadata": {},
   "outputs": [],
   "source": [
    "xpositions = y[:, 0]\n",
    "ypositions = y[:, 1]"
   ]
  },
  {
   "cell_type": "code",
   "execution_count": 16,
   "id": "7c09009e",
   "metadata": {},
   "outputs": [
    {
     "data": {
      "image/png": "[encoded data removed]",
      "text/plain": [
       "<Figure size 432x288 with 1 Axes>"
      ]
     },
     "metadata": {},
     "output_type": "display_data"
    }
   ],
   "source": [
    "plot.clf()\n",
    "plot.scatter(xpositions, ypositions, 5, marker='*', color='green')\n",
    "plot.tick_params(axis='x', which='both', bottom=False, top=False, labelbottom=False)\n",
    "plot.tick_params(axis='y', which='both', left=False, right=False, labelleft=False)\n",
    "plot.title(f\"{word} in {data_path2}\")\n",
    "plot.show()"
   ]
  },
  {
   "cell_type": "markdown",
   "id": "57855449",
   "metadata": {},
   "source": [
    "Every dot is a 768-dimensional token embeddings projected into 2 dimensions.\n",
    "Can you show both time periods side by side?"
   ]
  },
  {
   "cell_type": "markdown",
   "id": "a389635a",
   "metadata": {},
   "source": [
    "We can show two time periods on one plot as well:"
   ]
  },
  {
   "cell_type": "code",
   "execution_count": 17,
   "id": "ae182519",
   "metadata": {},
   "outputs": [],
   "source": [
    "embeddings = {\"bin1\": array1[word], \"bin2\": array2[word]}"
   ]
  },
  {
   "cell_type": "code",
   "execution_count": 18,
   "id": "509c601c",
   "metadata": {},
   "outputs": [
    {
     "data": {
      "text/plain": [
       "(1492, 768)"
      ]
     },
     "execution_count": 18,
     "metadata": {},
     "output_type": "execute_result"
    }
   ],
   "source": [
    "embeddings[\"bin2\"].shape"
   ]
  },
  {
   "cell_type": "code",
   "execution_count": 19,
   "id": "e972dc6f",
   "metadata": {},
   "outputs": [],
   "source": [
    "x = np.concatenate([embeddings[el] for el in sorted(embeddings)], axis=0)"
   ]
  },
  {
   "cell_type": "code",
   "execution_count": 20,
   "id": "748c81f6",
   "metadata": {},
   "outputs": [
    {
     "data": {
      "text/plain": [
       "(1932, 768)"
      ]
     },
     "execution_count": 20,
     "metadata": {},
     "output_type": "execute_result"
    }
   ],
   "source": [
    "x.shape"
   ]
  },
  {
   "cell_type": "markdown",
   "id": "d92389b1",
   "metadata": {},
   "source": [
    "We want to show usages from different time bins with different colors, thus, we need class labels"
   ]
  },
  {
   "cell_type": "code",
   "execution_count": 21,
   "id": "875b37fa",
   "metadata": {},
   "outputs": [],
   "source": [
    "class_labels = []\n",
    "for el in sorted(embeddings):\n",
    "    class_labels += [el] * len(embeddings[el])"
   ]
  },
  {
   "cell_type": "code",
   "execution_count": 22,
   "id": "9b200e1b",
   "metadata": {},
   "outputs": [
    {
     "data": {
      "text/plain": [
       "1932"
      ]
     },
     "execution_count": 22,
     "metadata": {},
     "output_type": "execute_result"
    }
   ],
   "source": [
    "len(class_labels)"
   ]
  },
  {
   "cell_type": "markdown",
   "id": "c8bd13fe",
   "metadata": {},
   "source": [
    "We are projecting all embeddings into 2 dimensions with PCA or TSNE:"
   ]
  },
  {
   "cell_type": "code",
   "execution_count": 32,
   "id": "b4c8ef8c",
   "metadata": {},
   "outputs": [],
   "source": [
    "x = preprocessing.StandardScaler().fit_transform(x)\n",
    "x_2d = PCA(n_components=2).fit_transform(x)"
   ]
  },
  {
   "cell_type": "code",
   "execution_count": 33,
   "id": "c755dcc8",
   "metadata": {},
   "outputs": [],
   "source": [
    "class_set = sorted([c for c in set(class_labels)])\n",
    "colors = plot.cm.Dark2(np.linspace(1, 0, len(class_set)))"
   ]
  },
  {
   "cell_type": "code",
   "execution_count": 34,
   "id": "a2443577",
   "metadata": {},
   "outputs": [
    {
     "data": {
      "image/png": "[encoded data removed]",
      "text/plain": [
       "<Figure size 1080x1080 with 1 Axes>"
      ]
     },
     "metadata": {},
     "output_type": "display_data"
    }
   ],
   "source": [
    "plot.clf\n",
    "plot.figure(figsize=(15, 15))\n",
    "plot.xticks([]), plot.yticks([])\n",
    "plot.title(f\"{word} in all time bins\\n\", fontsize=20)\n",
    "for year in class_set:\n",
    "    rows = [x == year for x in class_labels]\n",
    "    matrix = x_2d[rows]\n",
    "    plot.scatter(matrix[:, 0], matrix[:, 1], color=colors[class_set.index(year)], marker='*', s=40, label=year)\n",
    "plot.legend(prop={'size': 15}, loc=\"best\")\n",
    "plot.show()"
   ]
  },
  {
   "cell_type": "markdown",
   "id": "a6163682",
   "metadata": {},
   "source": [
    "What we will need to be able to inspect the actual usages? How to annotate the dots with the identifiers pointing at real sentences?"
   ]
  },
  {
   "cell_type": "markdown",
   "id": "8cf2ff43",
   "metadata": {},
   "source": [
    "Anyway, now we would like to use the token embeddings to quantitatively estimate the degree of semantic change. And here comes the..."
   ]
  },
  {
   "cell_type": "markdown",
   "id": "2ea586ec",
   "metadata": {},
   "source": [
    "# 2. Aggregating and assessment part"
   ]
  },
  {
   "cell_type": "markdown",
   "id": "e52b296a",
   "metadata": {},
   "source": [
    "There are many usages and many token embeddings. We need to somehow *aggregate* them for each time period, before *assessing* the change."
   ]
  },
  {
   "cell_type": "markdown",
   "id": "7abd2890",
   "metadata": {},
   "source": [
    "The simplest is the PRT method (comparison of averaged *prototypical* embeddings):"
   ]
  },
  {
   "cell_type": "markdown",
   "id": "ab363547",
   "metadata": {},
   "source": [
    "## PRT"
   ]
  },
  {
   "cell_type": "code",
   "execution_count": 35,
   "id": "d87423f8",
   "metadata": {},
   "outputs": [],
   "source": [
    "prt_predictions = []"
   ]
  },
  {
   "cell_type": "code",
   "execution_count": 36,
   "id": "f0acd1d5",
   "metadata": {},
   "outputs": [],
   "source": [
    "for word in sorted(targets):\n",
    "    frequency = np.sum([array1[word].shape[0], array2[word].shape[0]])\n",
    "    vectors1 = array1[word]\n",
    "    vectors2 = array2[word]\n",
    "    vectors = []\n",
    "    for m in [vectors1, vectors2]:\n",
    "        # Aggregation:\n",
    "        vector = np.average(m, axis=0)\n",
    "        vectors.append(vector)\n",
    "    vectors = [preprocessing.normalize(v.reshape(1, -1), norm='l2') for v in vectors]\n",
    "    # Assessment:\n",
    "    shift = 1 - np.dot(vectors[0].reshape(-1), vectors[1].reshape(-1))\n",
    "    prt_predictions.append(shift)"
   ]
  },
  {
   "cell_type": "code",
   "execution_count": 37,
   "id": "1badced2",
   "metadata": {},
   "outputs": [],
   "source": [
    "graded[\"prt_predictions\"] = prt_predictions"
   ]
  },
  {
   "cell_type": "code",
   "execution_count": 38,
   "id": "b9b08b86",
   "metadata": {},
   "outputs": [
    {
     "data": {
      "text/html": [
       "<div>\n",
       "<style scoped>\n",
       "    .dataframe tbody tr th:only-of-type {\n",
       "        vertical-align: middle;\n",
       "    }\n",
       "\n",
       "    .dataframe tbody tr th {\n",
       "        vertical-align: top;\n",
       "    }\n",
       "\n",
       "    .dataframe thead th {\n",
       "        text-align: right;\n",
       "    }\n",
       "</style>\n",
       "<table border=\"1\" class=\"dataframe\">\n",
       "  <thead>\n",
       "    <tr style=\"text-align: right;\">\n",
       "      <th></th>\n",
       "      <th>word</th>\n",
       "      <th>truth</th>\n",
       "      <th>prt_predictions</th>\n",
       "    </tr>\n",
       "  </thead>\n",
       "  <tbody>\n",
       "    <tr>\n",
       "      <th>0</th>\n",
       "      <td>attack</td>\n",
       "      <td>0.143970</td>\n",
       "      <td>0.005644</td>\n",
       "    </tr>\n",
       "    <tr>\n",
       "      <th>1</th>\n",
       "      <td>bag</td>\n",
       "      <td>0.100364</td>\n",
       "      <td>0.009337</td>\n",
       "    </tr>\n",
       "    <tr>\n",
       "      <th>2</th>\n",
       "      <td>ball</td>\n",
       "      <td>0.409367</td>\n",
       "      <td>0.003656</td>\n",
       "    </tr>\n",
       "    <tr>\n",
       "      <th>3</th>\n",
       "      <td>bit</td>\n",
       "      <td>0.306577</td>\n",
       "      <td>0.047555</td>\n",
       "    </tr>\n",
       "    <tr>\n",
       "      <th>4</th>\n",
       "      <td>chairman</td>\n",
       "      <td>0.000000</td>\n",
       "      <td>0.005544</td>\n",
       "    </tr>\n",
       "    <tr>\n",
       "      <th>5</th>\n",
       "      <td>circle</td>\n",
       "      <td>0.171087</td>\n",
       "      <td>0.006366</td>\n",
       "    </tr>\n",
       "    <tr>\n",
       "      <th>6</th>\n",
       "      <td>contemplation</td>\n",
       "      <td>0.070839</td>\n",
       "      <td>0.003035</td>\n",
       "    </tr>\n",
       "    <tr>\n",
       "      <th>7</th>\n",
       "      <td>donkey</td>\n",
       "      <td>0.160104</td>\n",
       "      <td>0.005218</td>\n",
       "    </tr>\n",
       "    <tr>\n",
       "      <th>8</th>\n",
       "      <td>edge</td>\n",
       "      <td>0.260966</td>\n",
       "      <td>0.007862</td>\n",
       "    </tr>\n",
       "    <tr>\n",
       "      <th>9</th>\n",
       "      <td>face</td>\n",
       "      <td>0.137791</td>\n",
       "      <td>0.006821</td>\n",
       "    </tr>\n",
       "    <tr>\n",
       "      <th>10</th>\n",
       "      <td>fiction</td>\n",
       "      <td>0.020723</td>\n",
       "      <td>0.002609</td>\n",
       "    </tr>\n",
       "    <tr>\n",
       "      <th>11</th>\n",
       "      <td>gas</td>\n",
       "      <td>0.159570</td>\n",
       "      <td>0.003772</td>\n",
       "    </tr>\n",
       "    <tr>\n",
       "      <th>12</th>\n",
       "      <td>graft</td>\n",
       "      <td>0.553976</td>\n",
       "      <td>0.006714</td>\n",
       "    </tr>\n",
       "    <tr>\n",
       "      <th>13</th>\n",
       "      <td>head</td>\n",
       "      <td>0.295256</td>\n",
       "      <td>0.005769</td>\n",
       "    </tr>\n",
       "    <tr>\n",
       "      <th>14</th>\n",
       "      <td>land</td>\n",
       "      <td>0.223448</td>\n",
       "      <td>0.006259</td>\n",
       "    </tr>\n",
       "    <tr>\n",
       "      <th>15</th>\n",
       "      <td>lane</td>\n",
       "      <td>0.103720</td>\n",
       "      <td>0.006556</td>\n",
       "    </tr>\n",
       "    <tr>\n",
       "      <th>16</th>\n",
       "      <td>lass</td>\n",
       "      <td>0.212590</td>\n",
       "      <td>0.004247</td>\n",
       "    </tr>\n",
       "    <tr>\n",
       "      <th>17</th>\n",
       "      <td>multitude</td>\n",
       "      <td>0.100364</td>\n",
       "      <td>0.005916</td>\n",
       "    </tr>\n",
       "    <tr>\n",
       "      <th>18</th>\n",
       "      <td>ounce</td>\n",
       "      <td>0.284899</td>\n",
       "      <td>0.003202</td>\n",
       "    </tr>\n",
       "    <tr>\n",
       "      <th>19</th>\n",
       "      <td>part</td>\n",
       "      <td>0.161271</td>\n",
       "      <td>0.006836</td>\n",
       "    </tr>\n",
       "    <tr>\n",
       "      <th>20</th>\n",
       "      <td>pin</td>\n",
       "      <td>0.207212</td>\n",
       "      <td>0.009917</td>\n",
       "    </tr>\n",
       "    <tr>\n",
       "      <th>21</th>\n",
       "      <td>plane</td>\n",
       "      <td>0.882348</td>\n",
       "      <td>0.013072</td>\n",
       "    </tr>\n",
       "    <tr>\n",
       "      <th>22</th>\n",
       "      <td>player</td>\n",
       "      <td>0.273667</td>\n",
       "      <td>0.005897</td>\n",
       "    </tr>\n",
       "    <tr>\n",
       "      <th>23</th>\n",
       "      <td>prop</td>\n",
       "      <td>0.624760</td>\n",
       "      <td>0.011595</td>\n",
       "    </tr>\n",
       "    <tr>\n",
       "      <th>24</th>\n",
       "      <td>quilt</td>\n",
       "      <td>0.123145</td>\n",
       "      <td>0.006938</td>\n",
       "    </tr>\n",
       "    <tr>\n",
       "      <th>25</th>\n",
       "      <td>rag</td>\n",
       "      <td>0.276515</td>\n",
       "      <td>0.005798</td>\n",
       "    </tr>\n",
       "    <tr>\n",
       "      <th>26</th>\n",
       "      <td>record</td>\n",
       "      <td>0.427350</td>\n",
       "      <td>0.005881</td>\n",
       "    </tr>\n",
       "    <tr>\n",
       "      <th>27</th>\n",
       "      <td>relationship</td>\n",
       "      <td>0.056218</td>\n",
       "      <td>0.007311</td>\n",
       "    </tr>\n",
       "    <tr>\n",
       "      <th>28</th>\n",
       "      <td>risk</td>\n",
       "      <td>0.000000</td>\n",
       "      <td>0.007159</td>\n",
       "    </tr>\n",
       "    <tr>\n",
       "      <th>29</th>\n",
       "      <td>savage</td>\n",
       "      <td>0.096869</td>\n",
       "      <td>0.004360</td>\n",
       "    </tr>\n",
       "    <tr>\n",
       "      <th>30</th>\n",
       "      <td>stab</td>\n",
       "      <td>0.400590</td>\n",
       "      <td>0.008787</td>\n",
       "    </tr>\n",
       "    <tr>\n",
       "      <th>31</th>\n",
       "      <td>stroke</td>\n",
       "      <td>0.176231</td>\n",
       "      <td>0.004437</td>\n",
       "    </tr>\n",
       "    <tr>\n",
       "      <th>32</th>\n",
       "      <td>thump</td>\n",
       "      <td>0.142992</td>\n",
       "      <td>0.006439</td>\n",
       "    </tr>\n",
       "    <tr>\n",
       "      <th>33</th>\n",
       "      <td>tip</td>\n",
       "      <td>0.678899</td>\n",
       "      <td>0.018089</td>\n",
       "    </tr>\n",
       "    <tr>\n",
       "      <th>34</th>\n",
       "      <td>tree</td>\n",
       "      <td>0.070839</td>\n",
       "      <td>0.005283</td>\n",
       "    </tr>\n",
       "    <tr>\n",
       "      <th>35</th>\n",
       "      <td>twist</td>\n",
       "      <td>0.398493</td>\n",
       "      <td>0.009283</td>\n",
       "    </tr>\n",
       "    <tr>\n",
       "      <th>36</th>\n",
       "      <td>word</td>\n",
       "      <td>0.179307</td>\n",
       "      <td>0.003015</td>\n",
       "    </tr>\n",
       "  </tbody>\n",
       "</table>\n",
       "</div>"
      ],
      "text/plain": [
       "             word     truth  prt_predictions\n",
       "0          attack  0.143970         0.005644\n",
       "1             bag  0.100364         0.009337\n",
       "2            ball  0.409367         0.003656\n",
       "3             bit  0.306577         0.047555\n",
       "4        chairman  0.000000         0.005544\n",
       "5          circle  0.171087         0.006366\n",
       "6   contemplation  0.070839         0.003035\n",
       "7          donkey  0.160104         0.005218\n",
       "8            edge  0.260966         0.007862\n",
       "9            face  0.137791         0.006821\n",
       "10        fiction  0.020723         0.002609\n",
       "11            gas  0.159570         0.003772\n",
       "12          graft  0.553976         0.006714\n",
       "13           head  0.295256         0.005769\n",
       "14           land  0.223448         0.006259\n",
       "15           lane  0.103720         0.006556\n",
       "16           lass  0.212590         0.004247\n",
       "17      multitude  0.100364         0.005916\n",
       "18          ounce  0.284899         0.003202\n",
       "19           part  0.161271         0.006836\n",
       "20            pin  0.207212         0.009917\n",
       "21          plane  0.882348         0.013072\n",
       "22         player  0.273667         0.005897\n",
       "23           prop  0.624760         0.011595\n",
       "24          quilt  0.123145         0.006938\n",
       "25            rag  0.276515         0.005798\n",
       "26         record  0.427350         0.005881\n",
       "27   relationship  0.056218         0.007311\n",
       "28           risk  0.000000         0.007159\n",
       "29         savage  0.096869         0.004360\n",
       "30           stab  0.400590         0.008787\n",
       "31         stroke  0.176231         0.004437\n",
       "32          thump  0.142992         0.006439\n",
       "33            tip  0.678899         0.018089\n",
       "34           tree  0.070839         0.005283\n",
       "35          twist  0.398493         0.009283\n",
       "36           word  0.179307         0.003015"
      ]
     },
     "execution_count": 38,
     "metadata": {},
     "output_type": "execute_result"
    }
   ],
   "source": [
    "graded"
   ]
  },
  {
   "cell_type": "markdown",
   "id": "97664a89",
   "metadata": {},
   "source": [
    "Let's evaluate the predictions. How correlated they are with the ground truth (human judgments)?"
   ]
  },
  {
   "cell_type": "code",
   "execution_count": 44,
   "id": "52e232a3",
   "metadata": {},
   "outputs": [
    {
     "name": "stdout",
     "output_type": "stream",
     "text": [
      "Spearman ranked correlation: 0.3198; p-value: 0.0537\n"
     ]
    }
   ],
   "source": [
    "correlation = spearmanr(graded.truth, graded.prt_predictions)\n",
    "print(f\"Spearman ranked correlation: {correlation[0]:0.4f}; p-value: {correlation[1]:0.4f}\")"
   ]
  },
  {
   "cell_type": "markdown",
   "id": "83a345a0",
   "metadata": {},
   "source": [
    "## APD"
   ]
  },
  {
   "cell_type": "markdown",
   "id": "7adf186e",
   "metadata": {},
   "source": [
    "Average Pairwise Distance (APD) is a more sophisticated aggreation method. It computes pairwise distances between *all* usages from two time bins and averages these distances."
   ]
  },
  {
   "cell_type": "code",
   "execution_count": 60,
   "id": "3c817cdd",
   "metadata": {},
   "outputs": [],
   "source": [
    "def mean_pairwise_distance(usage_matrix1, usage_matrix2, metric=\"cosine\"):\n",
    "    \"\"\"\n",
    "    Computes the mean pairwise distance between two usage matrices.\n",
    "\n",
    "    :param word_usages1: usage matrix 1\n",
    "    :param word_usages2: usage matrix 2\n",
    "    :param metric: a distance metric compatible with `scipy.spatial.distance.cdist`\n",
    "    (e.g. 'cosine', 'euclidean')\n",
    "    :return: the mean pairwise distance between two usage matrices\n",
    "    \"\"\"\n",
    "    if usage_matrix1.shape[0] == 0 or usage_matrix2.shape[0] == 0:\n",
    "        raise ValueError('Zero-dimensional usage matrix.')\n",
    "    # cdist is the most computationally expensive operation here\n",
    "    return np.mean(cdist(usage_matrix1, usage_matrix2, metric=metric))"
   ]
  },
  {
   "cell_type": "markdown",
   "id": "d5ca008b",
   "metadata": {},
   "source": [
    "Computational complexity naturally grows quadratically with the number of usages, so we will introduce sampling of max 5 000 random usages from each time bin."
   ]
  },
  {
   "cell_type": "code",
   "execution_count": 54,
   "id": "c90a198c",
   "metadata": {},
   "outputs": [],
   "source": [
    "max_samples = 5000"
   ]
  },
  {
   "cell_type": "code",
   "execution_count": 55,
   "id": "5773ac83",
   "metadata": {},
   "outputs": [],
   "source": [
    "apd_predictions = []"
   ]
  },
  {
   "cell_type": "code",
   "execution_count": 56,
   "id": "48b10702",
   "metadata": {},
   "outputs": [
    {
     "name": "stdout",
     "output_type": "stream",
     "text": [
      "Processing attack with the total frequency 1969...\n",
      "Processing bag with the total frequency 1500...\n",
      "Processing ball with the total frequency 2167...\n",
      "Processing bit with the total frequency 2804...\n",
      "Processing chairman with the total frequency 677...\n",
      "Processing circle with the total frequency 1532...\n",
      "Processing contemplation with the total frequency 346...\n",
      "Processing donkey with the total frequency 271...\n",
      "Processing edge with the total frequency 6228...\n",
      "Processing face with the total frequency 9081...\n",
      "Choosing 5000 random usages from 5384 for face in T1\n",
      "Processing fiction with the total frequency 556...\n",
      "Processing gas with the total frequency 1230...\n",
      "Processing graft with the total frequency 332...\n",
      "Processing head with the total frequency 10187...\n",
      "Choosing 5000 random usages from 6066 for head in T1\n",
      "Processing land with the total frequency 5726...\n",
      "Processing lane with the total frequency 305...\n",
      "Processing lass with the total frequency 6684...\n",
      "Processing multitude with the total frequency 593...\n",
      "Processing ounce with the total frequency 1518...\n",
      "Processing part with the total frequency 10545...\n",
      "Choosing 5000 random usages from 6106 for part in T0\n",
      "Processing pin with the total frequency 3359...\n",
      "Processing plane with the total frequency 1932...\n",
      "Processing player with the total frequency 1009...\n",
      "Processing prop with the total frequency 732...\n",
      "Processing quilt with the total frequency 314...\n",
      "Processing rag with the total frequency 1050...\n",
      "Processing record with the total frequency 2460...\n",
      "Processing relationship with the total frequency 974...\n",
      "Processing risk with the total frequency 1257...\n",
      "Processing savage with the total frequency 1067...\n",
      "Processing stab with the total frequency 343...\n",
      "Processing stroke with the total frequency 749...\n",
      "Processing thump with the total frequency 303...\n",
      "Processing tip with the total frequency 686...\n",
      "Processing tree with the total frequency 4233...\n",
      "Processing twist with the total frequency 755...\n",
      "Processing word with the total frequency 7946...\n"
     ]
    }
   ],
   "source": [
    "for word in sorted(targets):\n",
    "    frequency = np.sum([array1[word].shape[0], array2[word].shape[0]])\n",
    "    print(f\"Processing {word} with the total frequency {frequency}...\")\n",
    "    vectors1 = array1[word]\n",
    "    vectors2 = array2[word]\n",
    "    if vectors1.shape[0] > max_samples:\n",
    "        prev = vectors1.shape[0]\n",
    "        rand_indices = np.random.choice(prev, max_samples, replace=False)\n",
    "        vectors1 = vectors1[rand_indices]\n",
    "        print(f\"Choosing {max_samples} random usages from {prev} for {word} in T0\")\n",
    "    if vectors2.shape[0] > max_samples:\n",
    "        prev = vectors2.shape[0]\n",
    "        rand_indices = np.random.choice(prev, max_samples, replace=False)\n",
    "        vectors2 = vectors2[rand_indices]\n",
    "        print(f\"Choosing {max_samples} random usages from {prev} for {word} in T1\")\n",
    "    shift = mean_pairwise_distance(vectors1, vectors2, \"cosine\")\n",
    "    apd_predictions.append(shift)"
   ]
  },
  {
   "cell_type": "code",
   "execution_count": 57,
   "id": "9128d4fb",
   "metadata": {},
   "outputs": [],
   "source": [
    "graded[\"apd_predictions\"] = apd_predictions"
   ]
  },
  {
   "cell_type": "code",
   "execution_count": 58,
   "id": "ac5ff351",
   "metadata": {},
   "outputs": [
    {
     "data": {
      "text/html": [
       "<div>\n",
       "<style scoped>\n",
       "    .dataframe tbody tr th:only-of-type {\n",
       "        vertical-align: middle;\n",
       "    }\n",
       "\n",
       "    .dataframe tbody tr th {\n",
       "        vertical-align: top;\n",
       "    }\n",
       "\n",
       "    .dataframe thead th {\n",
       "        text-align: right;\n",
       "    }\n",
       "</style>\n",
       "<table border=\"1\" class=\"dataframe\">\n",
       "  <thead>\n",
       "    <tr style=\"text-align: right;\">\n",
       "      <th></th>\n",
       "      <th>word</th>\n",
       "      <th>truth</th>\n",
       "      <th>prt_predictions</th>\n",
       "      <th>apd_predictions</th>\n",
       "    </tr>\n",
       "  </thead>\n",
       "  <tbody>\n",
       "    <tr>\n",
       "      <th>0</th>\n",
       "      <td>attack</td>\n",
       "      <td>0.143970</td>\n",
       "      <td>0.005644</td>\n",
       "      <td>0.115139</td>\n",
       "    </tr>\n",
       "    <tr>\n",
       "      <th>1</th>\n",
       "      <td>bag</td>\n",
       "      <td>0.100364</td>\n",
       "      <td>0.009337</td>\n",
       "      <td>0.175357</td>\n",
       "    </tr>\n",
       "    <tr>\n",
       "      <th>2</th>\n",
       "      <td>ball</td>\n",
       "      <td>0.409367</td>\n",
       "      <td>0.003656</td>\n",
       "      <td>0.186279</td>\n",
       "    </tr>\n",
       "    <tr>\n",
       "      <th>3</th>\n",
       "      <td>bit</td>\n",
       "      <td>0.306577</td>\n",
       "      <td>0.047555</td>\n",
       "      <td>0.202653</td>\n",
       "    </tr>\n",
       "    <tr>\n",
       "      <th>4</th>\n",
       "      <td>chairman</td>\n",
       "      <td>0.000000</td>\n",
       "      <td>0.005544</td>\n",
       "      <td>0.097404</td>\n",
       "    </tr>\n",
       "    <tr>\n",
       "      <th>5</th>\n",
       "      <td>circle</td>\n",
       "      <td>0.171087</td>\n",
       "      <td>0.006366</td>\n",
       "      <td>0.123916</td>\n",
       "    </tr>\n",
       "    <tr>\n",
       "      <th>6</th>\n",
       "      <td>contemplation</td>\n",
       "      <td>0.070839</td>\n",
       "      <td>0.003035</td>\n",
       "      <td>0.103847</td>\n",
       "    </tr>\n",
       "    <tr>\n",
       "      <th>7</th>\n",
       "      <td>donkey</td>\n",
       "      <td>0.160104</td>\n",
       "      <td>0.005218</td>\n",
       "      <td>0.107805</td>\n",
       "    </tr>\n",
       "    <tr>\n",
       "      <th>8</th>\n",
       "      <td>edge</td>\n",
       "      <td>0.260966</td>\n",
       "      <td>0.007862</td>\n",
       "      <td>0.128872</td>\n",
       "    </tr>\n",
       "    <tr>\n",
       "      <th>9</th>\n",
       "      <td>face</td>\n",
       "      <td>0.137791</td>\n",
       "      <td>0.006821</td>\n",
       "      <td>0.157394</td>\n",
       "    </tr>\n",
       "    <tr>\n",
       "      <th>10</th>\n",
       "      <td>fiction</td>\n",
       "      <td>0.020723</td>\n",
       "      <td>0.002609</td>\n",
       "      <td>0.104262</td>\n",
       "    </tr>\n",
       "    <tr>\n",
       "      <th>11</th>\n",
       "      <td>gas</td>\n",
       "      <td>0.159570</td>\n",
       "      <td>0.003772</td>\n",
       "      <td>0.102263</td>\n",
       "    </tr>\n",
       "    <tr>\n",
       "      <th>12</th>\n",
       "      <td>graft</td>\n",
       "      <td>0.553976</td>\n",
       "      <td>0.006714</td>\n",
       "      <td>0.111430</td>\n",
       "    </tr>\n",
       "    <tr>\n",
       "      <th>13</th>\n",
       "      <td>head</td>\n",
       "      <td>0.295256</td>\n",
       "      <td>0.005769</td>\n",
       "      <td>0.154118</td>\n",
       "    </tr>\n",
       "    <tr>\n",
       "      <th>14</th>\n",
       "      <td>land</td>\n",
       "      <td>0.223448</td>\n",
       "      <td>0.006259</td>\n",
       "      <td>0.188686</td>\n",
       "    </tr>\n",
       "    <tr>\n",
       "      <th>15</th>\n",
       "      <td>lane</td>\n",
       "      <td>0.103720</td>\n",
       "      <td>0.006556</td>\n",
       "      <td>0.109664</td>\n",
       "    </tr>\n",
       "    <tr>\n",
       "      <th>16</th>\n",
       "      <td>lass</td>\n",
       "      <td>0.212590</td>\n",
       "      <td>0.004247</td>\n",
       "      <td>0.115418</td>\n",
       "    </tr>\n",
       "    <tr>\n",
       "      <th>17</th>\n",
       "      <td>multitude</td>\n",
       "      <td>0.100364</td>\n",
       "      <td>0.005916</td>\n",
       "      <td>0.111993</td>\n",
       "    </tr>\n",
       "    <tr>\n",
       "      <th>18</th>\n",
       "      <td>ounce</td>\n",
       "      <td>0.284899</td>\n",
       "      <td>0.003202</td>\n",
       "      <td>0.170778</td>\n",
       "    </tr>\n",
       "    <tr>\n",
       "      <th>19</th>\n",
       "      <td>part</td>\n",
       "      <td>0.161271</td>\n",
       "      <td>0.006836</td>\n",
       "      <td>0.198167</td>\n",
       "    </tr>\n",
       "    <tr>\n",
       "      <th>20</th>\n",
       "      <td>pin</td>\n",
       "      <td>0.207212</td>\n",
       "      <td>0.009917</td>\n",
       "      <td>0.240720</td>\n",
       "    </tr>\n",
       "    <tr>\n",
       "      <th>21</th>\n",
       "      <td>plane</td>\n",
       "      <td>0.882348</td>\n",
       "      <td>0.013072</td>\n",
       "      <td>0.120899</td>\n",
       "    </tr>\n",
       "    <tr>\n",
       "      <th>22</th>\n",
       "      <td>player</td>\n",
       "      <td>0.273667</td>\n",
       "      <td>0.005897</td>\n",
       "      <td>0.167280</td>\n",
       "    </tr>\n",
       "    <tr>\n",
       "      <th>23</th>\n",
       "      <td>prop</td>\n",
       "      <td>0.624760</td>\n",
       "      <td>0.011595</td>\n",
       "      <td>0.176947</td>\n",
       "    </tr>\n",
       "    <tr>\n",
       "      <th>24</th>\n",
       "      <td>quilt</td>\n",
       "      <td>0.123145</td>\n",
       "      <td>0.006938</td>\n",
       "      <td>0.105649</td>\n",
       "    </tr>\n",
       "    <tr>\n",
       "      <th>25</th>\n",
       "      <td>rag</td>\n",
       "      <td>0.276515</td>\n",
       "      <td>0.005798</td>\n",
       "      <td>0.216864</td>\n",
       "    </tr>\n",
       "    <tr>\n",
       "      <th>26</th>\n",
       "      <td>record</td>\n",
       "      <td>0.427350</td>\n",
       "      <td>0.005881</td>\n",
       "      <td>0.126548</td>\n",
       "    </tr>\n",
       "    <tr>\n",
       "      <th>27</th>\n",
       "      <td>relationship</td>\n",
       "      <td>0.056218</td>\n",
       "      <td>0.007311</td>\n",
       "      <td>0.105649</td>\n",
       "    </tr>\n",
       "    <tr>\n",
       "      <th>28</th>\n",
       "      <td>risk</td>\n",
       "      <td>0.000000</td>\n",
       "      <td>0.007159</td>\n",
       "      <td>0.155139</td>\n",
       "    </tr>\n",
       "    <tr>\n",
       "      <th>29</th>\n",
       "      <td>savage</td>\n",
       "      <td>0.096869</td>\n",
       "      <td>0.004360</td>\n",
       "      <td>0.111770</td>\n",
       "    </tr>\n",
       "    <tr>\n",
       "      <th>30</th>\n",
       "      <td>stab</td>\n",
       "      <td>0.400590</td>\n",
       "      <td>0.008787</td>\n",
       "      <td>0.209094</td>\n",
       "    </tr>\n",
       "    <tr>\n",
       "      <th>31</th>\n",
       "      <td>stroke</td>\n",
       "      <td>0.176231</td>\n",
       "      <td>0.004437</td>\n",
       "      <td>0.116821</td>\n",
       "    </tr>\n",
       "    <tr>\n",
       "      <th>32</th>\n",
       "      <td>thump</td>\n",
       "      <td>0.142992</td>\n",
       "      <td>0.006439</td>\n",
       "      <td>0.111667</td>\n",
       "    </tr>\n",
       "    <tr>\n",
       "      <th>33</th>\n",
       "      <td>tip</td>\n",
       "      <td>0.678899</td>\n",
       "      <td>0.018089</td>\n",
       "      <td>0.204100</td>\n",
       "    </tr>\n",
       "    <tr>\n",
       "      <th>34</th>\n",
       "      <td>tree</td>\n",
       "      <td>0.070839</td>\n",
       "      <td>0.005283</td>\n",
       "      <td>0.175973</td>\n",
       "    </tr>\n",
       "    <tr>\n",
       "      <th>35</th>\n",
       "      <td>twist</td>\n",
       "      <td>0.398493</td>\n",
       "      <td>0.009283</td>\n",
       "      <td>0.113044</td>\n",
       "    </tr>\n",
       "    <tr>\n",
       "      <th>36</th>\n",
       "      <td>word</td>\n",
       "      <td>0.179307</td>\n",
       "      <td>0.003015</td>\n",
       "      <td>0.180495</td>\n",
       "    </tr>\n",
       "  </tbody>\n",
       "</table>\n",
       "</div>"
      ],
      "text/plain": [
       "             word     truth  prt_predictions  apd_predictions\n",
       "0          attack  0.143970         0.005644         0.115139\n",
       "1             bag  0.100364         0.009337         0.175357\n",
       "2            ball  0.409367         0.003656         0.186279\n",
       "3             bit  0.306577         0.047555         0.202653\n",
       "4        chairman  0.000000         0.005544         0.097404\n",
       "5          circle  0.171087         0.006366         0.123916\n",
       "6   contemplation  0.070839         0.003035         0.103847\n",
       "7          donkey  0.160104         0.005218         0.107805\n",
       "8            edge  0.260966         0.007862         0.128872\n",
       "9            face  0.137791         0.006821         0.157394\n",
       "10        fiction  0.020723         0.002609         0.104262\n",
       "11            gas  0.159570         0.003772         0.102263\n",
       "12          graft  0.553976         0.006714         0.111430\n",
       "13           head  0.295256         0.005769         0.154118\n",
       "14           land  0.223448         0.006259         0.188686\n",
       "15           lane  0.103720         0.006556         0.109664\n",
       "16           lass  0.212590         0.004247         0.115418\n",
       "17      multitude  0.100364         0.005916         0.111993\n",
       "18          ounce  0.284899         0.003202         0.170778\n",
       "19           part  0.161271         0.006836         0.198167\n",
       "20            pin  0.207212         0.009917         0.240720\n",
       "21          plane  0.882348         0.013072         0.120899\n",
       "22         player  0.273667         0.005897         0.167280\n",
       "23           prop  0.624760         0.011595         0.176947\n",
       "24          quilt  0.123145         0.006938         0.105649\n",
       "25            rag  0.276515         0.005798         0.216864\n",
       "26         record  0.427350         0.005881         0.126548\n",
       "27   relationship  0.056218         0.007311         0.105649\n",
       "28           risk  0.000000         0.007159         0.155139\n",
       "29         savage  0.096869         0.004360         0.111770\n",
       "30           stab  0.400590         0.008787         0.209094\n",
       "31         stroke  0.176231         0.004437         0.116821\n",
       "32          thump  0.142992         0.006439         0.111667\n",
       "33            tip  0.678899         0.018089         0.204100\n",
       "34           tree  0.070839         0.005283         0.175973\n",
       "35          twist  0.398493         0.009283         0.113044\n",
       "36           word  0.179307         0.003015         0.180495"
      ]
     },
     "execution_count": 58,
     "metadata": {},
     "output_type": "execute_result"
    }
   ],
   "source": [
    "graded"
   ]
  },
  {
   "cell_type": "markdown",
   "id": "d241122d",
   "metadata": {},
   "source": [
    "Again, let's evaluate:"
   ]
  },
  {
   "cell_type": "code",
   "execution_count": 59,
   "id": "ef5354c2",
   "metadata": {},
   "outputs": [
    {
     "name": "stdout",
     "output_type": "stream",
     "text": [
      "Spearman ranked correlation: 0.5137; p-value: 0.0011\n"
     ]
    }
   ],
   "source": [
    "correlation = spearmanr(graded.truth, graded.apd_predictions)\n",
    "print(f\"Spearman ranked correlation: {correlation[0]:0.4f}; p-value: {correlation[1]:0.4f}\")"
   ]
  },
  {
   "cell_type": "markdown",
   "id": "08a98fb8",
   "metadata": {},
   "source": [
    "## PRT/APD"
   ]
  },
  {
   "cell_type": "markdown",
   "id": "74b66ace",
   "metadata": {},
   "source": [
    "One can also take the geometric mean of PRT and APD"
   ]
  },
  {
   "cell_type": "code",
   "execution_count": null,
   "id": "1a7b778a",
   "metadata": {},
   "outputs": [],
   "source": [
    "graded[\"prt_apd_predictions\"] = graded.apply(lambda row: np.sqrt(row.prt_predictions * row.apd_predictions), axis=1)"
   ]
  },
  {
   "cell_type": "code",
   "execution_count": null,
   "id": "c294c27b",
   "metadata": {},
   "outputs": [],
   "source": [
    "graded"
   ]
  },
  {
   "cell_type": "code",
   "execution_count": null,
   "id": "8b51c89f",
   "metadata": {},
   "outputs": [],
   "source": [
    "spearmanr(graded.truth, graded.prt_apd_predictions)"
   ]
  },
  {
   "cell_type": "markdown",
   "id": "e4cbbb8f",
   "metadata": {},
   "source": [
    "You can try other languages!\n",
    "Annotated datasets are available here: https://www.ims.uni-stuttgart.de/en/research/resources/experiment-data/wugs/"
   ]
  }
 ],
 "metadata": {
  "kernelspec": {
   "display_name": "Python 3 (ipykernel)",
   "language": "python",
   "name": "python3"
  },
  "language_info": {
   "codemirror_mode": {
    "name": "ipython",
    "version": 3
   },
   "file_extension": ".py",
   "mimetype": "text/x-python",
   "name": "python",
   "nbconvert_exporter": "python",
   "pygments_lexer": "ipython3",
   "version": "3.10.12"
  }
 },
 "nbformat": 4,
 "nbformat_minor": 5
}
